{
 "cells": [
  {
   "cell_type": "code",
   "execution_count": 2,
   "metadata": {},
   "outputs": [],
   "source": [
    "# Python Object Oriented Programming\n",
    "# Using instance methods and attributes\n",
    "\n",
    "\n",
    "class Book:\n",
    "    # the \"init\" function is called when the instance is\n",
    "    # created and ready to be initialized\n",
    "    def __init__(self, title, pages, author, price):\n",
    "        self.title = title\n",
    "        self.pages = pages\n",
    "        self.author = author\n",
    "        self.price = price\n",
    "        self.__secret = \"This is a secret attribute\"\n",
    "        \n",
    "    # instance methods are defined like any other function, with the\n",
    "    # first argument as the object (\"self\" is just a convention)\n",
    "    def setDiscount(self, amount):\n",
    "        self._discount = amount\n",
    "\n",
    "    def getPrice(self):\n",
    "        if hasattr(self, \"_discount\"):\n",
    "            return self.price - (self.price * self._discount)\n",
    "        else:\n",
    "            return self.price        "
   ]
  },
  {
   "cell_type": "code",
   "execution_count": 3,
   "metadata": {},
   "outputs": [],
   "source": [
    "# create some book instances\n",
    "b1 = Book(\"War and Peace\", \"Leo Tolstoy\", 1225, 39.95)\n",
    "b2 = Book(\"The Catcher in the Rye\", \"JD Salinger\", 234, 29.95)"
   ]
  },
  {
   "cell_type": "code",
   "execution_count": 4,
   "metadata": {},
   "outputs": [
    {
     "name": "stdout",
     "output_type": "stream",
     "text": [
      "39.95\n"
     ]
    }
   ],
   "source": [
    "# print the price of book1\n",
    "print(b1.getPrice())"
   ]
  },
  {
   "cell_type": "code",
   "execution_count": 5,
   "metadata": {},
   "outputs": [
    {
     "name": "stdout",
     "output_type": "stream",
     "text": [
      "29.95\n",
      "22.4625\n"
     ]
    }
   ],
   "source": [
    "# try setting the discount\n",
    "print(b2.getPrice())\n",
    "b2.setDiscount(0.25)\n",
    "print(b2.getPrice())"
   ]
  },
  {
   "cell_type": "code",
   "execution_count": 6,
   "metadata": {},
   "outputs": [
    {
     "name": "stdout",
     "output_type": "stream",
     "text": [
      "0.25\n"
     ]
    }
   ],
   "source": [
    "# properties with double underscores are hidden by the interpreter\n",
    "\n",
    "print(b2._discount)"
   ]
  },
  {
   "cell_type": "code",
   "execution_count": 8,
   "metadata": {},
   "outputs": [
    {
     "ename": "AttributeError",
     "evalue": "'Book' object has no attribute '__secret'",
     "output_type": "error",
     "traceback": [
      "\u001b[0;31m---------------------------------------------------------------------------\u001b[0m",
      "\u001b[0;31mAttributeError\u001b[0m                            Traceback (most recent call last)",
      "\u001b[0;32m<ipython-input-8-c70884c5dd8b>\u001b[0m in \u001b[0;36m<module>\u001b[0;34m\u001b[0m\n\u001b[0;32m----> 1\u001b[0;31m \u001b[0mprint\u001b[0m\u001b[0;34m(\u001b[0m\u001b[0mb2\u001b[0m\u001b[0;34m.\u001b[0m\u001b[0m__secret\u001b[0m\u001b[0;34m)\u001b[0m \u001b[0;31m# properties with double underscores are hidden by the interpreter\u001b[0m\u001b[0;34m\u001b[0m\u001b[0;34m\u001b[0m\u001b[0m\n\u001b[0m",
      "\u001b[0;31mAttributeError\u001b[0m: 'Book' object has no attribute '__secret'"
     ]
    }
   ],
   "source": [
    "print(b2.__secret) # properties with double underscores are hidden by the interpreter"
   ]
  },
  {
   "cell_type": "code",
   "execution_count": 9,
   "metadata": {},
   "outputs": [
    {
     "name": "stdout",
     "output_type": "stream",
     "text": [
      "This is a secret attribute\n"
     ]
    }
   ],
   "source": [
    "print(b2._Book__secret) # properties with double underscores are hidden by the interpreter"
   ]
  },
  {
   "cell_type": "code",
   "execution_count": null,
   "metadata": {},
   "outputs": [],
   "source": []
  }
 ],
 "metadata": {
  "kernelspec": {
   "display_name": "Python 3",
   "language": "python",
   "name": "python3"
  },
  "language_info": {
   "codemirror_mode": {
    "name": "ipython",
    "version": 3
   },
   "file_extension": ".py",
   "mimetype": "text/x-python",
   "name": "python",
   "nbconvert_exporter": "python",
   "pygments_lexer": "ipython3",
   "version": "3.8.3"
  }
 },
 "nbformat": 4,
 "nbformat_minor": 4
}
