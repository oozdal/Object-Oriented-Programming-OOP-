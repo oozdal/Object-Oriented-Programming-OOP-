{
 "cells": [
  {
   "cell_type": "code",
   "execution_count": 1,
   "metadata": {},
   "outputs": [],
   "source": [
    "# Python Object Oriented Programming\n",
    "# Using class-level and static methods\n",
    "\n",
    "class Book:\n",
    "    # TODO: Properties defined at the class level are shared by all instances\n",
    "    BOOK_TYPES = (\"HARDCOVER\", \"PAPERBACK\", \"EBOOK\")\n",
    "    # TODO: double-underscore properties are hidden from other classes\n",
    "    __booklist = None\n",
    "\n",
    "    # static methods do not receive class or instance arguments\n",
    "    # and usually operate on data that is not instance- or\n",
    "    # class-specific\n",
    "    @staticmethod\n",
    "    def getbooklist():\n",
    "        if Book.__booklist == None:\n",
    "            Book.__booklist = []\n",
    "        return Book.__booklist\n",
    "\n",
    "    # class methods receive a class as their argument and can only\n",
    "    # operate on class-level data\n",
    "    @classmethod\n",
    "    def getbooktypes(cls):\n",
    "        return cls.BOOK_TYPES\n",
    "\n",
    "    # instance methods receive a specific object instance as an argument\n",
    "    # and operate on data specific to that object instance\n",
    "    def setTitle(self, newtitle):\n",
    "        self.title = newtitle\n",
    "\n",
    "    def __init__(self, title, booktype):\n",
    "        self.title = title\n",
    "        if (not booktype in Book.BOOK_TYPES):\n",
    "            raise ValueError(f\"{booktype} is not a valid book type\")\n",
    "        else:\n",
    "            self.booktype = booktype"
   ]
  },
  {
   "cell_type": "code",
   "execution_count": 2,
   "metadata": {},
   "outputs": [
    {
     "name": "stdout",
     "output_type": "stream",
     "text": [
      "Book types:  ('HARDCOVER', 'PAPERBACK', 'EBOOK')\n"
     ]
    }
   ],
   "source": [
    "# TODO: access the class attribute\n",
    "print(\"Book types: \", Book.getbooktypes())"
   ]
  },
  {
   "cell_type": "code",
   "execution_count": 3,
   "metadata": {},
   "outputs": [],
   "source": [
    "# TODO: Create some book instances\n",
    "b1 = Book(\"Title 1\", \"HARDCOVER\")\n",
    "b2 = Book(\"Title 2\", \"PAPERBACK\")"
   ]
  },
  {
   "cell_type": "code",
   "execution_count": 4,
   "metadata": {},
   "outputs": [
    {
     "name": "stdout",
     "output_type": "stream",
     "text": [
      "[<__main__.Book object at 0x7fc113c4b6a0>, <__main__.Book object at 0x7fc113c4b730>]\n"
     ]
    }
   ],
   "source": [
    "# TODO: Use the static method to access a singleton object\n",
    "thebooks = Book.getbooklist()\n",
    "thebooks.append(b1)\n",
    "thebooks.append(b2)\n",
    "print(thebooks)"
   ]
  },
  {
   "cell_type": "code",
   "execution_count": null,
   "metadata": {},
   "outputs": [],
   "source": []
  }
 ],
 "metadata": {
  "kernelspec": {
   "display_name": "Python 3",
   "language": "python",
   "name": "python3"
  },
  "language_info": {
   "codemirror_mode": {
    "name": "ipython",
    "version": 3
   },
   "file_extension": ".py",
   "mimetype": "text/x-python",
   "name": "python",
   "nbconvert_exporter": "python",
   "pygments_lexer": "ipython3",
   "version": "3.8.3"
  }
 },
 "nbformat": 4,
 "nbformat_minor": 4
}
