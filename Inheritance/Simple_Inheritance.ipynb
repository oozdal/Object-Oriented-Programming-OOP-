{
 "cells": [
  {
   "cell_type": "code",
   "execution_count": 16,
   "id": "3ad3af12-97a6-4194-9eaa-f4e73c7dc112",
   "metadata": {},
   "outputs": [],
   "source": [
    "# Base class/Parent class\n",
    "class SatisficationComment():\n",
    "    \n",
    "    def __init__(self, yoe, salary):\n",
    "        self.yoe = yoe\n",
    "        self.salary = salary\n",
    "    \n",
    "    def CommentSatisfaction(self):\n",
    "        yearsofexp = self.yoe\n",
    "        Salary = self.salary\n",
    "        ratio = Salary/yearsofexp\n",
    "        \n",
    "        if ratio > 2:\n",
    "            statement = \"Employee is satisfied\"\n",
    "        else:\n",
    "            statement = \"Employee is not satisfied and may leave\"\n",
    "        \n",
    "        return(statement)"
   ]
  },
  {
   "cell_type": "code",
   "execution_count": 17,
   "id": "23c83e10-e91a-4631-aed0-3c06776f6351",
   "metadata": {},
   "outputs": [
    {
     "data": {
      "text/plain": [
       "'Employee is not satisfied and may leave'"
      ]
     },
     "execution_count": 17,
     "metadata": {},
     "output_type": "execute_result"
    }
   ],
   "source": [
    "Employee1 = SatisficationComment(10,15)\n",
    "Employee1.CommentSatisfaction()"
   ]
  },
  {
   "cell_type": "code",
   "execution_count": 25,
   "id": "2872b475-45c0-4c08-ba3d-0bb98be3b789",
   "metadata": {},
   "outputs": [
    {
     "data": {
      "text/plain": [
       "'Employee is satisfied'"
      ]
     },
     "execution_count": 25,
     "metadata": {},
     "output_type": "execute_result"
    }
   ],
   "source": [
    "Employee2 = SatisficationComment(14,30)\n",
    "Employee2.CommentSatisfaction()"
   ]
  },
  {
   "cell_type": "code",
   "execution_count": 20,
   "id": "aa496afd-c745-48b7-82c8-0e286dd5c730",
   "metadata": {},
   "outputs": [],
   "source": [
    "# Child class/Derived class\n",
    "class HRSatisficationComment(SatisficationComment):\n",
    "    \n",
    "    def CommentSatisfaction(self):\n",
    "        print(\"Employee is satisfied\")"
   ]
  },
  {
   "cell_type": "code",
   "execution_count": 14,
   "id": "37cba35f-d453-47f3-94c6-9694ac2d3c13",
   "metadata": {},
   "outputs": [
    {
     "name": "stdout",
     "output_type": "stream",
     "text": [
      "Employee is satisfied\n"
     ]
    }
   ],
   "source": [
    "Employee3 = HRSatisficationComment(10,15)\n",
    "Employee3.CommentSatisfaction()"
   ]
  },
  {
   "cell_type": "code",
   "execution_count": null,
   "id": "e68a7cb4-3e3a-4141-94c1-68e9fd7c145c",
   "metadata": {},
   "outputs": [],
   "source": []
  }
 ],
 "metadata": {
  "kernelspec": {
   "display_name": "Python 3",
   "language": "python",
   "name": "python3"
  },
  "language_info": {
   "codemirror_mode": {
    "name": "ipython",
    "version": 3
   },
   "file_extension": ".py",
   "mimetype": "text/x-python",
   "name": "python",
   "nbconvert_exporter": "python",
   "pygments_lexer": "ipython3",
   "version": "3.8.8"
  }
 },
 "nbformat": 4,
 "nbformat_minor": 5
}
