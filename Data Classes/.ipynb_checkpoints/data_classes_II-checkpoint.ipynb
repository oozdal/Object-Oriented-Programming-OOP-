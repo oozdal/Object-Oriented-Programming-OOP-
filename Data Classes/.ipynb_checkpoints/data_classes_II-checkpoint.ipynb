{
 "cells": [
  {
   "cell_type": "code",
   "execution_count": 1,
   "metadata": {},
   "outputs": [],
   "source": [
    "# Python Object Oriented Programming\n",
    "# Using data classes to represent data objects\n",
    "\n",
    "from dataclasses import dataclass\n",
    "\n",
    "\n",
    "@dataclass\n",
    "class Book:\n",
    "    title: str\n",
    "    author: str\n",
    "    pages: int\n",
    "    price: float\n",
    "\n",
    "    # You can define methods in a dataclass like any other\n",
    "    def bookinfo(self):\n",
    "        return f\"{self.title}, by {self.author}\""
   ]
  },
  {
   "cell_type": "code",
   "execution_count": 2,
   "metadata": {},
   "outputs": [],
   "source": [
    "# create some instances\n",
    "b1 = Book(\"War and Peace\", \"Leo Tolstoy\", 1225, 39.95)\n",
    "b2 = Book(\"The Catcher in the Rye\", \"JD Salinger\", 234, 29.95)"
   ]
  },
  {
   "cell_type": "code",
   "execution_count": 3,
   "metadata": {},
   "outputs": [
    {
     "name": "stdout",
     "output_type": "stream",
     "text": [
      "War and Peace\n",
      "JD Salinger\n"
     ]
    }
   ],
   "source": [
    "# access fields\n",
    "print(b1.title)\n",
    "print(b2.author)"
   ]
  },
  {
   "cell_type": "code",
   "execution_count": 4,
   "metadata": {},
   "outputs": [
    {
     "name": "stdout",
     "output_type": "stream",
     "text": [
      "Book(title='War and Peace', author='Leo Tolstoy', pages=1225, price=39.95)\n"
     ]
    }
   ],
   "source": [
    "# print the book itself - dataclasses provide a default\n",
    "# implementation of the __repr__ function\n",
    "print(b1)"
   ]
  },
  {
   "cell_type": "code",
   "execution_count": 5,
   "metadata": {},
   "outputs": [
    {
     "name": "stdout",
     "output_type": "stream",
     "text": [
      "True\n"
     ]
    }
   ],
   "source": [
    "# comparing two dataclasses\n",
    "b3 = Book(\"War and Peace\", \"Leo Tolstoy\", 1225, 39.95)\n",
    "print(b1 == b3)"
   ]
  },
  {
   "cell_type": "code",
   "execution_count": 6,
   "metadata": {},
   "outputs": [
    {
     "name": "stdout",
     "output_type": "stream",
     "text": [
      "Anna Karenina, by Leo Tolstoy\n"
     ]
    }
   ],
   "source": [
    "# change some fields, call a regular class method\n",
    "b1.title = \"Anna Karenina\"\n",
    "b1.pages = 864\n",
    "print(b1.bookinfo())"
   ]
  },
  {
   "cell_type": "code",
   "execution_count": null,
   "metadata": {},
   "outputs": [],
   "source": []
  }
 ],
 "metadata": {
  "kernelspec": {
   "display_name": "Python 3",
   "language": "python",
   "name": "python3"
  },
  "language_info": {
   "codemirror_mode": {
    "name": "ipython",
    "version": 3
   },
   "file_extension": ".py",
   "mimetype": "text/x-python",
   "name": "python",
   "nbconvert_exporter": "python",
   "pygments_lexer": "ipython3",
   "version": "3.8.3"
  }
 },
 "nbformat": 4,
 "nbformat_minor": 4
}
