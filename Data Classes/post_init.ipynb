{
 "cells": [
  {
   "cell_type": "code",
   "execution_count": 1,
   "metadata": {},
   "outputs": [],
   "source": [
    "# Python Object Oriented Programming\n",
    "# Using the postinit function in data classes\n",
    "\n",
    "from dataclasses import dataclass\n",
    "\n",
    "\n",
    "@dataclass\n",
    "class Book:\n",
    "    title: str\n",
    "    author: str\n",
    "    pages: int\n",
    "    price: float\n",
    "\n",
    "    # the __post_init__ function lets us customize additional properties\n",
    "    # after the object has been initialized via built-in __init__\n",
    "    def __post_init__(self):\n",
    "        self.description = f\"{self.title} by {self.author}, {self.pages} pages\""
   ]
  },
  {
   "cell_type": "code",
   "execution_count": 2,
   "metadata": {},
   "outputs": [],
   "source": [
    "# create some Book objects\n",
    "b1 = Book(\"War and Peace\", \"Leo Tolstoy\", 1225, 39.95)\n",
    "b2 = Book(\"The Catcher in the Rye\", \"JD Salinger\", 234, 29.95)"
   ]
  },
  {
   "cell_type": "code",
   "execution_count": 3,
   "metadata": {},
   "outputs": [
    {
     "name": "stdout",
     "output_type": "stream",
     "text": [
      "War and Peace by Leo Tolstoy, 1225 pages\n",
      "The Catcher in the Rye by JD Salinger, 234 pages\n"
     ]
    }
   ],
   "source": [
    "# use the description attribute\n",
    "print(b1.description)\n",
    "print(b2.description)"
   ]
  },
  {
   "cell_type": "code",
   "execution_count": null,
   "metadata": {},
   "outputs": [],
   "source": []
  }
 ],
 "metadata": {
  "kernelspec": {
   "display_name": "Python 3",
   "language": "python",
   "name": "python3"
  },
  "language_info": {
   "codemirror_mode": {
    "name": "ipython",
    "version": 3
   },
   "file_extension": ".py",
   "mimetype": "text/x-python",
   "name": "python",
   "nbconvert_exporter": "python",
   "pygments_lexer": "ipython3",
   "version": "3.8.3"
  }
 },
 "nbformat": 4,
 "nbformat_minor": 4
}
