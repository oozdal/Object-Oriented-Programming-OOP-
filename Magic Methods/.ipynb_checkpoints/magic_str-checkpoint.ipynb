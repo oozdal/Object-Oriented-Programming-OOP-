{
 "cells": [
  {
   "cell_type": "code",
   "execution_count": 1,
   "metadata": {},
   "outputs": [],
   "source": [
    "# Python Object Oriented Programming\n",
    "# Using the __str__ and __repr__ magic methods\n",
    "\n",
    "\n",
    "class Book:\n",
    "    def __init__(self, title, author, price):\n",
    "        super().__init__()\n",
    "        self.title = title\n",
    "        self.author = author\n",
    "        self.price = price\n",
    "\n",
    "    # The __str__ function is used to return a user-friendly string\n",
    "    # representation of the object\n",
    "    def __str__(self):\n",
    "        return f\"{self.title} by {self.author}, costs {self.price}\"\n",
    "\n",
    "    # The __str__ function is used to return a developer-friendly string\n",
    "    # representation of the object\n",
    "    def __repr__(self):\n",
    "        return f\"title={self.title},author={self.author},price={self.price}\""
   ]
  },
  {
   "cell_type": "code",
   "execution_count": 2,
   "metadata": {},
   "outputs": [],
   "source": [
    "b1 = Book(\"War and Peace\", \"Leo Tolstoy\", 39.95)\n",
    "b2 = Book(\"The Catcher in the Rye\", \"JD Salinger\", 29.95)"
   ]
  },
  {
   "cell_type": "code",
   "execution_count": 3,
   "metadata": {},
   "outputs": [
    {
     "name": "stdout",
     "output_type": "stream",
     "text": [
      "War and Peace by Leo Tolstoy, costs 39.95\n",
      "The Catcher in the Rye by JD Salinger, costs 29.95\n"
     ]
    }
   ],
   "source": [
    "# print each object\n",
    "print(b1)\n",
    "print(b2)"
   ]
  },
  {
   "cell_type": "code",
   "execution_count": 4,
   "metadata": {},
   "outputs": [
    {
     "name": "stdout",
     "output_type": "stream",
     "text": [
      "War and Peace by Leo Tolstoy, costs 39.95\n",
      "title=The Catcher in the Rye,author=JD Salinger,price=29.95\n"
     ]
    }
   ],
   "source": [
    "# use str() and repr()\n",
    "print(str(b1))\n",
    "print(repr(b2))"
   ]
  },
  {
   "cell_type": "code",
   "execution_count": null,
   "metadata": {},
   "outputs": [],
   "source": []
  }
 ],
 "metadata": {
  "kernelspec": {
   "display_name": "Python 3",
   "language": "python",
   "name": "python3"
  },
  "language_info": {
   "codemirror_mode": {
    "name": "ipython",
    "version": 3
   },
   "file_extension": ".py",
   "mimetype": "text/x-python",
   "name": "python",
   "nbconvert_exporter": "python",
   "pygments_lexer": "ipython3",
   "version": "3.8.3"
  }
 },
 "nbformat": 4,
 "nbformat_minor": 4
}
