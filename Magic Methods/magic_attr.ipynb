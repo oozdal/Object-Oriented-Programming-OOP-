{
 "cells": [
  {
   "cell_type": "code",
   "execution_count": 11,
   "metadata": {},
   "outputs": [],
   "source": [
    "# Python Object Oriented Programming\n",
    "# Using the __str__ and __repr__ magic methods\n",
    "\n",
    "\n",
    "class Book:\n",
    "    def __init__(self, title, author, price):\n",
    "        super().__init__()\n",
    "        self.title = title\n",
    "        self.author = author\n",
    "        self.price = price\n",
    "        self._discount = 0.1\n",
    "\n",
    "    # The __str__ function is used to return a user-friendly string\n",
    "    # representation of the object\n",
    "    def __str__(self):\n",
    "        return f\"{self.title} by {self.author}, costs {self.price}\"\n",
    "\n",
    "    # Called when an attribute is retrieved. Be aware that you can't\n",
    "    # directly access the attr name otherwise a recursive loop is created\n",
    "    def __getattribute__(self, name):\n",
    "        if (name == \"price\"):\n",
    "            p = super().__getattribute__(\"price\")\n",
    "            d = super().__getattribute__(\"_discount\")\n",
    "            return p - (p * d)\n",
    "        return super().__getattribute__(name)\n",
    "\n",
    "    # __setattr__ called when an attribute value is set. Don't set the attr\n",
    "    # directly here otherwise a recursive loop causes a crash\n",
    "    def __setattr__(self, name, value):\n",
    "        if (name == \"price\"):\n",
    "            if type(value) is not float:\n",
    "                raise ValueError(\"The 'price' attribute must be a float\")\n",
    "        return super().__setattr__(name, value)\n",
    "\n",
    "    # __getattr__ called when __getattribute__ lookup fails - you can\n",
    "    # pretty much generate attributes on the fly with this method\n",
    "    def __getattr__(self, name):\n",
    "        return name + \" is not here!\""
   ]
  },
  {
   "cell_type": "code",
   "execution_count": 12,
   "metadata": {},
   "outputs": [],
   "source": [
    "b1 = Book(\"War and Peace\", \"Leo Tolstoy\", 39.95)\n",
    "b2 = Book(\"The Catcher in the Rye\", \"JD Salinger\", 29.95)"
   ]
  },
  {
   "cell_type": "code",
   "execution_count": 13,
   "metadata": {},
   "outputs": [
    {
     "name": "stdout",
     "output_type": "stream",
     "text": [
      "War and Peace by Leo Tolstoy, costs 35.055\n"
     ]
    }
   ],
   "source": [
    "# Try setting and accessing the price\n",
    "b1.price = 38.95\n",
    "print(b1)"
   ]
  },
  {
   "cell_type": "code",
   "execution_count": 14,
   "metadata": {},
   "outputs": [
    {
     "name": "stdout",
     "output_type": "stream",
     "text": [
      "The Catcher in the Rye by JD Salinger, costs 36.0\n"
     ]
    }
   ],
   "source": [
    "b2.price = float(40)  # using an int will raise an exception\n",
    "print(b2)"
   ]
  },
  {
   "cell_type": "code",
   "execution_count": 15,
   "metadata": {},
   "outputs": [
    {
     "name": "stdout",
     "output_type": "stream",
     "text": [
      "randomprop is not here!\n"
     ]
    }
   ],
   "source": [
    "# If an attribute doesn't exist, __getattr__ will be called\n",
    "print(b1.randomprop)"
   ]
  },
  {
   "cell_type": "code",
   "execution_count": null,
   "metadata": {},
   "outputs": [],
   "source": []
  }
 ],
 "metadata": {
  "kernelspec": {
   "display_name": "Python 3",
   "language": "python",
   "name": "python3"
  },
  "language_info": {
   "codemirror_mode": {
    "name": "ipython",
    "version": 3
   },
   "file_extension": ".py",
   "mimetype": "text/x-python",
   "name": "python",
   "nbconvert_exporter": "python",
   "pygments_lexer": "ipython3",
   "version": "3.8.3"
  }
 },
 "nbformat": 4,
 "nbformat_minor": 4
}
