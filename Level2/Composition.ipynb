{
 "cells": [
  {
   "cell_type": "code",
   "execution_count": 1,
   "metadata": {},
   "outputs": [],
   "source": [
    "# Python Object Oriented Programming\n",
    "# Using composition to build complex objects\n",
    "\n",
    "\n",
    "class Book:\n",
    "    def __init__(self, title, price, author=None):\n",
    "        self.title = title\n",
    "        self.price = price\n",
    "\n",
    "        # Use references to other objects, like author and chapters\n",
    "        self.author = author\n",
    "        self.chapters = []\n",
    "\n",
    "    def addchapter(self, chapter):\n",
    "        self.chapters.append(chapter)\n",
    "\n",
    "    def getbookpagecount(self):\n",
    "        result = 0\n",
    "        for ch in self.chapters:\n",
    "            result += ch.pagecount\n",
    "        return result"
   ]
  },
  {
   "cell_type": "code",
   "execution_count": 2,
   "metadata": {},
   "outputs": [],
   "source": [
    "class Author:\n",
    "    def __init__(self, fname, lname):\n",
    "        self.fname = fname\n",
    "        self.lname = lname\n",
    "\n",
    "    def __str__(self):\n",
    "        return f\"{self.fname} {self.lname}\"\n",
    "\n",
    "\n",
    "class Chapter:\n",
    "    def __init__(self, name, pagecount):\n",
    "        self.name = name\n",
    "        self.pagecount = pagecount"
   ]
  },
  {
   "cell_type": "code",
   "execution_count": 3,
   "metadata": {},
   "outputs": [],
   "source": [
    "auth = Author(\"Leo\", \"Tolstoy\")\n",
    "b1 = Book(\"War and Peace\", 39.95, auth)"
   ]
  },
  {
   "cell_type": "code",
   "execution_count": 4,
   "metadata": {},
   "outputs": [],
   "source": [
    "b1.addchapter(Chapter(\"Chapter 1\", 104))\n",
    "b1.addchapter(Chapter(\"Chapter 2\", 89))\n",
    "b1.addchapter(Chapter(\"Chapter 3\", 124))"
   ]
  },
  {
   "cell_type": "code",
   "execution_count": 5,
   "metadata": {},
   "outputs": [
    {
     "name": "stdout",
     "output_type": "stream",
     "text": [
      "War and Peace\n"
     ]
    }
   ],
   "source": [
    "print(b1.title)"
   ]
  },
  {
   "cell_type": "code",
   "execution_count": 6,
   "metadata": {},
   "outputs": [
    {
     "name": "stdout",
     "output_type": "stream",
     "text": [
      "Leo Tolstoy\n"
     ]
    }
   ],
   "source": [
    "print(b1.author)"
   ]
  },
  {
   "cell_type": "code",
   "execution_count": 7,
   "metadata": {},
   "outputs": [
    {
     "name": "stdout",
     "output_type": "stream",
     "text": [
      "317\n"
     ]
    }
   ],
   "source": [
    "print(b1.getbookpagecount())"
   ]
  },
  {
   "cell_type": "code",
   "execution_count": null,
   "metadata": {},
   "outputs": [],
   "source": []
  }
 ],
 "metadata": {
  "kernelspec": {
   "display_name": "Python 3",
   "language": "python",
   "name": "python3"
  },
  "language_info": {
   "codemirror_mode": {
    "name": "ipython",
    "version": 3
   },
   "file_extension": ".py",
   "mimetype": "text/x-python",
   "name": "python",
   "nbconvert_exporter": "python",
   "pygments_lexer": "ipython3",
   "version": "3.8.3"
  }
 },
 "nbformat": 4,
 "nbformat_minor": 4
}
